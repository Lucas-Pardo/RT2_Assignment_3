{
 "cells": [
  {
   "attachments": {},
   "cell_type": "markdown",
   "metadata": {},
   "source": [
    "## Input data"
   ]
  },
  {
   "cell_type": "code",
   "execution_count": 7,
   "metadata": {},
   "outputs": [
    {
     "name": "stdout",
     "output_type": "stream",
     "text": [
      "[30.049, 32.087, 30.388, 32.829, 32.06, 31.495, 30.713, 31.846, 30.2, 31.465, 29.882, 31.895, 31.588, 31.249, 30.718, 29.364, 32.275, 32.082, 31.865, 30.922, 33.269, 30.404, 31.158, 31.042, 30.989, 30.048]\n",
      "24\n",
      "Failed runs: 48.00%\n"
     ]
    }
   ],
   "source": [
    "def input_data(file):\n",
    "    good_runs = []\n",
    "    failed_runs = 0\n",
    "    with open(file, \"r\") as f:\n",
    "        f.readline()\n",
    "        for line in f:\n",
    "            res = list(map(float, line.split(\",\")))\n",
    "            if res[1] < 0:\n",
    "                failed_runs += 1\n",
    "            else:\n",
    "                good_runs.append(res[0])\n",
    "    return good_runs, failed_runs\n"
   ]
  },
  {
   "attachments": {},
   "cell_type": "markdown",
   "metadata": {},
   "source": [
    "Compute"
   ]
  }
 ],
 "metadata": {
  "kernelspec": {
   "display_name": "Python 3",
   "language": "python",
   "name": "python3"
  },
  "language_info": {
   "codemirror_mode": {
    "name": "ipython",
    "version": 3
   },
   "file_extension": ".py",
   "mimetype": "text/x-python",
   "name": "python",
   "nbconvert_exporter": "python",
   "pygments_lexer": "ipython3",
   "version": "3.8.10"
  },
  "orig_nbformat": 4
 },
 "nbformat": 4,
 "nbformat_minor": 2
}
