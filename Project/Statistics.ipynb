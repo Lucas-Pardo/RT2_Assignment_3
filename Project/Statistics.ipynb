{
 "cells": [
  {
   "attachments": {},
   "cell_type": "markdown",
   "metadata": {},
   "source": [
    "## Imports"
   ]
  },
  {
   "cell_type": "code",
   "execution_count": 1,
   "metadata": {},
   "outputs": [],
   "source": [
    "import numpy as np\n",
    "from scipy import stats\n",
    "import statsmodels.stats.diagnostic as diag\n",
    "import matplotlib.pyplot as plt"
   ]
  },
  {
   "attachments": {},
   "cell_type": "markdown",
   "metadata": {},
   "source": [
    "## Input data"
   ]
  },
  {
   "cell_type": "code",
   "execution_count": 2,
   "metadata": {},
   "outputs": [],
   "source": [
    "def input_data(file):\n",
    "    good_runs = []\n",
    "    failed_runs = 0\n",
    "    with open(file, \"r\") as f:\n",
    "        f.readline()\n",
    "        for line in f:\n",
    "            res = list(map(float, line.split(\",\")))\n",
    "            if res[1] < 0:\n",
    "                failed_runs += 1\n",
    "            else:\n",
    "                good_runs.append(res[0])\n",
    "    return np.array(good_runs), failed_runs\n"
   ]
  },
  {
   "attachments": {},
   "cell_type": "markdown",
   "metadata": {},
   "source": [
    "### Input Control group:"
   ]
  },
  {
   "cell_type": "code",
   "execution_count": 3,
   "metadata": {},
   "outputs": [],
   "source": [
    "cgr, cfr = input_data(\"data/base_10.txt\")"
   ]
  },
  {
   "attachments": {},
   "cell_type": "markdown",
   "metadata": {},
   "source": [
    "### Input Other samples:"
   ]
  },
  {
   "cell_type": "code",
   "execution_count": 4,
   "metadata": {},
   "outputs": [],
   "source": [
    "gr, fr = input_data(\"data/random_10.txt\")"
   ]
  },
  {
   "attachments": {},
   "cell_type": "markdown",
   "metadata": {},
   "source": [
    "## Compute mean and standard deviation"
   ]
  },
  {
   "cell_type": "code",
   "execution_count": 5,
   "metadata": {},
   "outputs": [
    {
     "name": "stdout",
     "output_type": "stream",
     "text": [
      "Control group mean: 37.591122222222225\n",
      "Control group standard deviation: 2.3567821745751263\n"
     ]
    },
    {
     "data": {
      "image/png": "[encoded data removed]",
      "text/plain": [
       "<Figure size 640x480 with 1 Axes>"
      ]
     },
     "metadata": {},
     "output_type": "display_data"
    }
   ],
   "source": [
    "\n",
    "cmean = np.mean(cgr)\n",
    "cstd = np.std(cgr)\n",
    "\n",
    "print(\"Control group mean:\", cmean)\n",
    "print(\"Control group standard deviation:\", cstd)\n",
    "\n",
    "x = np.linspace(cmean - 3 * cstd, cmean + 3 * cstd, 100)\n",
    "\n",
    "%matplotlib inline\n",
    "\n",
    "cdensity = plt.hist(cgr, bins=20, density=True)\n",
    "plt.plot(x, stats.norm.pdf(x, cmean, cstd))\n",
    "plt.show()"
   ]
  },
  {
   "attachments": {},
   "cell_type": "markdown",
   "metadata": {},
   "source": [
    "## Lilliefors Test"
   ]
  },
  {
   "cell_type": "code",
   "execution_count": 12,
   "metadata": {},
   "outputs": [
    {
     "name": "stdout",
     "output_type": "stream",
     "text": [
      "Lilliefors\n",
      "ksstat: 0.14572031730216095\n",
      "pvalue: 0.0009999999999998899\n",
      "Shapiro-Wilk\n",
      "ksstat: 0.8960422277450562\n",
      "pvalue: 2.704445023482549e-06\n",
      "Anderson-Darling\n",
      "ksstat: 2.0880978606138\n",
      "pvalue: 2.3762502104882127e-05\n",
      "Anderson-Darling\n",
      "Stat: 2.0880978606118106\n",
      "Crit: [0.553 0.63  0.756 0.882 1.049]\n",
      "Levels: [15.  10.   5.   2.5  1. ]\n",
      "Anderson-Darling Logistic\n",
      "Stat: 0.9459916475413621\n",
      "Crit: [0.425 0.561 0.658 0.767 0.903 1.007]\n",
      "Levels: [25.  10.   5.   2.5  1.   0.5]\n",
      "Anderson-Darling Gumbel\n",
      "Stat: 8.289909463458116\n",
      "Crit: [0.464 0.624 0.741 0.859 1.017]\n",
      "Levels: [25.  10.   5.   2.5  1. ]\n"
     ]
    }
   ],
   "source": [
    "print(\"Lilliefors\")\n",
    "ksstat, pvalue = diag.lilliefors(cgr, dist=\"norm\", pvalmethod=\"table\")\n",
    "print(\"ksstat:\", ksstat)\n",
    "print(\"pvalue:\", pvalue)\n",
    "\n",
    "print(\"Shapiro-Wilk\")\n",
    "ksstat, pvalue = stats.shapiro(cgr)\n",
    "print(\"ksstat:\", ksstat)\n",
    "print(\"pvalue:\", pvalue)\n",
    "\n",
    "print(\"Anderson-Darling\")\n",
    "ksstat, pvalue = diag.normal_ad(cgr)\n",
    "print(\"ksstat:\", ksstat)\n",
    "print(\"pvalue:\", pvalue)\n",
    "\n",
    "\n",
    "print(\"Anderson-Darling\")\n",
    "andObj = stats.anderson(cgr, \"norm\")\n",
    "print(\"Stat:\", andObj.statistic)\n",
    "print(\"Crit:\", andObj.critical_values)\n",
    "print(\"Levels:\", andObj.significance_level)\n",
    "\n",
    "print(\"Anderson-Darling Logistic\")\n",
    "andObj = stats.anderson(cgr, \"logistic\")\n",
    "print(\"Stat:\", andObj.statistic)\n",
    "print(\"Crit:\", andObj.critical_values)\n",
    "print(\"Levels:\", andObj.significance_level)\n",
    "\n",
    "print(\"Anderson-Darling Gumbel\")\n",
    "andObj = stats.anderson(cgr, \"gumbel\")\n",
    "print(\"Stat:\", andObj.statistic)\n",
    "print(\"Crit:\", andObj.critical_values)\n",
    "print(\"Levels:\", andObj.significance_level)\n",
    "\n"
   ]
  }
 ],
 "metadata": {
  "kernelspec": {
   "display_name": "Python 3",
   "language": "python",
   "name": "python3"
  },
  "language_info": {
   "codemirror_mode": {
    "name": "ipython",
    "version": 3
   },
   "file_extension": ".py",
   "mimetype": "text/x-python",
   "name": "python",
   "nbconvert_exporter": "python",
   "pygments_lexer": "ipython3",
   "version": "3.8.10"
  },
  "orig_nbformat": 4
 },
 "nbformat": 4,
 "nbformat_minor": 2
}
