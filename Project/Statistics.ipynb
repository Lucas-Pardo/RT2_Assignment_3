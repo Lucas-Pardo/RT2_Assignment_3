{
 "cells": [
  {
   "attachments": {},
   "cell_type": "markdown",
   "metadata": {},
   "source": [
    "## Imports"
   ]
  },
  {
   "cell_type": "code",
   "execution_count": 1,
   "metadata": {},
   "outputs": [],
   "source": [
    "import numpy as np\n",
    "from scipy import stats\n",
    "import statsmodels.stats.diagnostic as diag\n",
    "import matplotlib.pyplot as plt\n",
    "from math import sqrt\n",
    "\n",
    "%matplotlib inline"
   ]
  },
  {
   "attachments": {},
   "cell_type": "markdown",
   "metadata": {},
   "source": [
    "## Input data"
   ]
  },
  {
   "cell_type": "code",
   "execution_count": 2,
   "metadata": {},
   "outputs": [],
   "source": [
    "def input_data(file, red=False):\n",
    "    good_runs = []\n",
    "    failed_runs = 0\n",
    "    with open(file, \"r\") as f:\n",
    "        f.readline()\n",
    "        for line in f:\n",
    "            res = list(map(float, line.split(\",\")))\n",
    "            if res[1] < 0:\n",
    "                failed_runs += 1\n",
    "            elif red:\n",
    "                good_runs.append(res[0] - res[1])\n",
    "            else:\n",
    "                good_runs.append(res[0])\n",
    "    return np.array(good_runs), failed_runs\n"
   ]
  },
  {
   "attachments": {},
   "cell_type": "markdown",
   "metadata": {},
   "source": [
    "### Input Control group:"
   ]
  },
  {
   "cell_type": "code",
   "execution_count": 3,
   "metadata": {},
   "outputs": [
    {
     "name": "stdout",
     "output_type": "stream",
     "text": [
      "Failure: 25 / 200 = 12.50%\n"
     ]
    }
   ],
   "source": [
    "cgr, cfr = input_data(\"data/base_10.txt\", True)\n",
    "print(f\"Failure: {cfr} / {len(cgr)+cfr} = {cfr/(len(cgr)+cfr):.2%}\")"
   ]
  },
  {
   "attachments": {},
   "cell_type": "markdown",
   "metadata": {},
   "source": [
    "## Compute mean and standard deviation"
   ]
  },
  {
   "cell_type": "code",
   "execution_count": 4,
   "metadata": {},
   "outputs": [
    {
     "name": "stdout",
     "output_type": "stream",
     "text": [
      "Mean: 34.58\n",
      "Standard deviation: 2.37\n"
     ]
    },
    {
     "data": {
      "image/png": "[encoded data removed]",
      "text/plain": [
       "<Figure size 640x480 with 1 Axes>"
      ]
     },
     "metadata": {},
     "output_type": "display_data"
    }
   ],
   "source": [
    "\n",
    "def plot_data(data):\n",
    "    cmean = np.mean(data)\n",
    "    cstd = np.std(data)\n",
    "\n",
    "    print(f\"Mean: {cmean:.2f}\")\n",
    "    print(f\"Standard deviation: {cstd:.2f}\")\n",
    "\n",
    "    x = np.linspace(cmean - 4 * cstd, cmean + 4 * cstd, 200)\n",
    "\n",
    "    plt.clf()\n",
    "    plt.hist(data, bins=25, density=True)\n",
    "    plt.plot(x, stats.norm.pdf(x, cmean, cstd))\n",
    "    plt.xlabel(\"Time (s)\")\n",
    "    plt.ylabel(\"Probability\")\n",
    "    plt.plot([cmean for i in range(10)], np.linspace(0, 0.3, 10), \"r\")\n",
    "    for n in range(1, 4):\n",
    "        plt.plot([cmean - n * cstd for i in range(10)], np.linspace(0, 0.3, 10), \"g\")\n",
    "        plt.plot([cmean + n * cstd for i in range(10)], np.linspace(0, 0.3, 10), \"g\")\n",
    "    plt.show()\n",
    "\n",
    "plot_data(cgr)"
   ]
  },
  {
   "attachments": {},
   "cell_type": "markdown",
   "metadata": {},
   "source": [
    "## Normality Tests"
   ]
  },
  {
   "cell_type": "code",
   "execution_count": 5,
   "metadata": {},
   "outputs": [
    {
     "name": "stdout",
     "output_type": "stream",
     "text": [
      "statsmodel library:\n",
      "==================================\n",
      "Lilliefors\n",
      "ksstat: 0.10988220094993884\n",
      "pvalue: 0.0009999999999998899\n",
      "-----------------------------------\n",
      "Anderson-Darling\n",
      "ksstat: 2.2085659203037267\n",
      "pvalue: 1.264248765104861e-05\n",
      "-----------------------------------\n",
      "scipy library:\n",
      "==================================\n",
      "Shapiro-Wilk\n",
      "ksstat: 0.9386143684387207\n",
      "pvalue: 8.085661420409451e-07\n",
      "-----------------------------------\n",
      "Anderson-Darling\n",
      "Stat: 2.208565920304409\n",
      "Crit: [0.564 0.642 0.77  0.898 1.068]\n",
      "Levels: [15.  10.   5.   2.5  1. ]\n",
      "-----------------------------------\n",
      "Anderson-Darling Logistic\n",
      "Stat: 0.8045003246932083\n",
      "Crit: [0.425 0.562 0.659 0.768 0.905 1.009]\n",
      "Levels: [25.  10.   5.   2.5  1.   0.5]\n",
      "-----------------------------------\n",
      "Anderson-Darling Gumbel\n",
      "Stat: 12.015019506404201\n",
      "Crit: [0.467 0.628 0.746 0.864 1.023]\n",
      "Levels: [25.  10.   5.   2.5  1. ]\n",
      "-----------------------------------\n",
      "Anderson-Darling Exponential\n",
      "Stat: 70.64198762552058\n",
      "Crit: [0.919 1.074 1.336 1.601 1.95 ]\n",
      "Levels: [15.  10.   5.   2.5  1. ]\n"
     ]
    }
   ],
   "source": [
    "\n",
    "def normTests(data):\n",
    "    print(\"statsmodel library:\")\n",
    "    print(\"==================================\")\n",
    "\n",
    "    print(\"Lilliefors\")\n",
    "    ksstat, pvalue = diag.lilliefors(data, dist=\"norm\", pvalmethod=\"table\")\n",
    "    print(\"ksstat:\", ksstat)\n",
    "    print(\"pvalue:\", pvalue)\n",
    "\n",
    "    print(\"-----------------------------------\")\n",
    "\n",
    "    print(\"Anderson-Darling\")\n",
    "    ksstat, pvalue = diag.normal_ad(data)\n",
    "    print(\"ksstat:\", ksstat)\n",
    "    print(\"pvalue:\", pvalue)\n",
    "\n",
    "    print(\"-----------------------------------\")\n",
    "\n",
    "    print(\"scipy library:\")\n",
    "    print(\"==================================\")\n",
    "\n",
    "    print(\"Shapiro-Wilk\")\n",
    "    ksstat, pvalue = stats.shapiro(data)\n",
    "    print(\"ksstat:\", ksstat)\n",
    "    print(\"pvalue:\", pvalue)\n",
    "\n",
    "    print(\"-----------------------------------\")\n",
    "\n",
    "    print(\"Anderson-Darling\")\n",
    "    andObj = stats.anderson(data, \"norm\")\n",
    "    print(\"Stat:\", andObj.statistic)\n",
    "    print(\"Crit:\", andObj.critical_values)\n",
    "    print(\"Levels:\", andObj.significance_level)\n",
    "\n",
    "    print(\"-----------------------------------\")\n",
    "\n",
    "    print(\"Anderson-Darling Logistic\")\n",
    "    andObj = stats.anderson(data, \"logistic\")\n",
    "    print(\"Stat:\", andObj.statistic)\n",
    "    print(\"Crit:\", andObj.critical_values)\n",
    "    print(\"Levels:\", andObj.significance_level)\n",
    "\n",
    "    print(\"-----------------------------------\")\n",
    "\n",
    "    print(\"Anderson-Darling Gumbel\")\n",
    "    andObj = stats.anderson(data, \"gumbel\")\n",
    "    print(\"Stat:\", andObj.statistic)\n",
    "    print(\"Crit:\", andObj.critical_values)\n",
    "    print(\"Levels:\", andObj.significance_level)\n",
    "\n",
    "    print(\"-----------------------------------\")\n",
    "\n",
    "    print(\"Anderson-Darling Exponential\")\n",
    "    andObj = stats.anderson(data, \"expon\")\n",
    "    print(\"Stat:\", andObj.statistic)\n",
    "    print(\"Crit:\", andObj.critical_values)\n",
    "    print(\"Levels:\", andObj.significance_level)\n",
    "\n",
    "normTests(cgr)"
   ]
  },
  {
   "attachments": {},
   "cell_type": "markdown",
   "metadata": {},
   "source": [
    "### Input another sample:"
   ]
  },
  {
   "cell_type": "code",
   "execution_count": 6,
   "metadata": {},
   "outputs": [],
   "source": [
    "def input_aman(file):\n",
    "    good_runs = []\n",
    "    failed_runs = 0\n",
    "    with open(file, \"r\") as f:\n",
    "        for line in f:\n",
    "            res = float(line)\n",
    "            if res == 90 or res == 100:\n",
    "                failed_runs += 1\n",
    "            else:\n",
    "                good_runs.append(res)\n",
    "    return np.array(good_runs), failed_runs"
   ]
  },
  {
   "cell_type": "code",
   "execution_count": 48,
   "metadata": {},
   "outputs": [
    {
     "name": "stdout",
     "output_type": "stream",
     "text": [
      "Failure: 1 / 50 = 2.00%\n",
      "Success: 49\n",
      "Mean: 83.61\n",
      "Standard deviation: 14.21\n"
     ]
    },
    {
     "data": {
      "image/png": "[encoded data removed]",
      "text/plain": [
       "<Figure size 640x480 with 1 Axes>"
      ]
     },
     "metadata": {},
     "output_type": "display_data"
    },
    {
     "name": "stdout",
     "output_type": "stream",
     "text": [
      "statsmodel library:\n",
      "==================================\n",
      "Lilliefors\n",
      "ksstat: 0.22644832613412547\n",
      "pvalue: 0.0009999999999998899\n",
      "-----------------------------------\n",
      "Anderson-Darling\n",
      "ksstat: 4.8192871302392675\n",
      "pvalue: 4.0986129057486675e-12\n",
      "-----------------------------------\n",
      "scipy library:\n",
      "==================================\n",
      "Shapiro-Wilk\n",
      "ksstat: 0.7240680456161499\n",
      "pvalue: 2.882646477075923e-08\n",
      "-----------------------------------\n",
      "Anderson-Darling\n",
      "Stat: 4.8192871302392675\n",
      "Crit: [0.538 0.612 0.735 0.857 1.019]\n",
      "Levels: [15.  10.   5.   2.5  1. ]\n",
      "-----------------------------------\n",
      "Anderson-Darling Logistic\n",
      "Stat: 3.2720753794500226\n",
      "Crit: [0.424 0.56  0.657 0.765 0.901 1.005]\n",
      "Levels: [25.  10.   5.   2.5  1.   0.5]\n",
      "-----------------------------------\n",
      "Anderson-Darling Gumbel\n",
      "Stat: 6.628844776832963\n",
      "Crit: [0.461 0.619 0.736 0.853 1.009]\n",
      "Levels: [25.  10.   5.   2.5  1. ]\n",
      "-----------------------------------\n",
      "Anderson-Darling Exponential\n",
      "Stat: 17.108688397798232\n",
      "Crit: [0.911 1.065 1.325 1.587 1.933]\n",
      "Levels: [15.  10.   5.   2.5  1. ]\n"
     ]
    }
   ],
   "source": [
    "gr, fr = input_data(\"data/base_50.txt\", True)\n",
    "# gr, fr = input_aman(\"data/Aman_data.txt\")\n",
    "print(f\"Failure: {fr} / {len(gr)+fr} = {fr/(len(gr)+fr):.2%}\")\n",
    "print(\"Success:\", len(gr))\n",
    "plot_data(gr)\n",
    "normTests(gr)"
   ]
  },
  {
   "attachments": {},
   "cell_type": "markdown",
   "metadata": {},
   "source": [
    "## Chi-squared test"
   ]
  },
  {
   "attachments": {},
   "cell_type": "markdown",
   "metadata": {},
   "source": [
    "### Fisher's test for the failure"
   ]
  },
  {
   "cell_type": "code",
   "execution_count": 49,
   "metadata": {},
   "outputs": [
    {
     "name": "stdout",
     "output_type": "stream",
     "text": [
      "[[175, 25], [49, 1]]\n",
      "p =  0.035124905351131774\n"
     ]
    }
   ],
   "source": [
    "\n",
    "print([[len(cgr), cfr], [len(gr), fr]])\n",
    "res = stats.fisher_exact([[len(cgr), cfr], [len(gr), fr]])\n",
    "print(\"p = \", res.pvalue)"
   ]
  },
  {
   "attachments": {},
   "cell_type": "markdown",
   "metadata": {},
   "source": [
    "## Comparison tests"
   ]
  },
  {
   "attachments": {},
   "cell_type": "markdown",
   "metadata": {},
   "source": [
    "### T-test"
   ]
  },
  {
   "cell_type": "code",
   "execution_count": 50,
   "metadata": {},
   "outputs": [
    {
     "name": "stdout",
     "output_type": "stream",
     "text": [
      "p =  1.0\n"
     ]
    }
   ],
   "source": [
    "res = stats.ttest_ind(gr, cgr, alternative=\"less\", equal_var=False)\n",
    "print(\"p = \", res.pvalue)"
   ]
  },
  {
   "attachments": {},
   "cell_type": "markdown",
   "metadata": {},
   "source": [
    "### U-test"
   ]
  },
  {
   "cell_type": "code",
   "execution_count": 51,
   "metadata": {},
   "outputs": [
    {
     "name": "stdout",
     "output_type": "stream",
     "text": [
      "p =  5.5814914544997796e-27\n"
     ]
    }
   ],
   "source": [
    "res = stats.mannwhitneyu(gr, cgr, alternative=\"greater\")\n",
    "print(\"p = \", res.pvalue)"
   ]
  },
  {
   "attachments": {},
   "cell_type": "markdown",
   "metadata": {},
   "source": [
    "### Difference estimator"
   ]
  },
  {
   "cell_type": "code",
   "execution_count": 52,
   "metadata": {},
   "outputs": [
    {
     "name": "stdout",
     "output_type": "stream",
     "text": [
      "The estimated difference is: 49.03 +- 3.35\n"
     ]
    }
   ],
   "source": [
    "def dif_estimator(data, control, z=1.645):\n",
    "    dif = np.mean(control) - np.mean(data)\n",
    "    var = z * sqrt(np.std(control)**2 / len(control) + np.std(data)**2 / len(data))\n",
    "    return dif, var\n",
    "\n",
    "dif, var = dif_estimator(cgr, gr)\n",
    "print(f\"The estimated difference is: {dif:.2f} +- {var:.2f}\")"
   ]
  }
 ],
 "metadata": {
  "kernelspec": {
   "display_name": "Python 3",
   "language": "python",
   "name": "python3"
  },
  "language_info": {
   "codemirror_mode": {
    "name": "ipython",
    "version": 3
   },
   "file_extension": ".py",
   "mimetype": "text/x-python",
   "name": "python",
   "nbconvert_exporter": "python",
   "pygments_lexer": "ipython3",
   "version": "3.8.10"
  },
  "orig_nbformat": 4
 },
 "nbformat": 4,
 "nbformat_minor": 2
}
